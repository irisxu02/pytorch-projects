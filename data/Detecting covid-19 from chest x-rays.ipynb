{
 "cells": [
  {
   "cell_type": "markdown",
   "id": "6c0bcf0d",
   "metadata": {},
   "source": [
    "# Detecting Covid-19 from Chest X-Rays\n",
    "\n",
    "Train a classification model on chest x-ray images of individuals with covid-19 and those without.\n",
    "\n",
    "[Dataset source](https://www.kaggle.com/datasets/alifrahman/covid19-chest-xray-image-dataset/)"
   ]
  },
  {
   "cell_type": "code",
   "execution_count": 1,
   "id": "375c4ca3",
   "metadata": {},
   "outputs": [],
   "source": [
    "import torch\n",
    "import torchvision\n",
    "import torchvision.transforms as transforms"
   ]
  }
 ],
 "metadata": {
  "kernelspec": {
   "display_name": "Python 3 (ipykernel)",
   "language": "python",
   "name": "python3"
  },
  "language_info": {
   "codemirror_mode": {
    "name": "ipython",
    "version": 3
   },
   "file_extension": ".py",
   "mimetype": "text/x-python",
   "name": "python",
   "nbconvert_exporter": "python",
   "pygments_lexer": "ipython3",
   "version": "3.11.5"
  }
 },
 "nbformat": 4,
 "nbformat_minor": 5
}
